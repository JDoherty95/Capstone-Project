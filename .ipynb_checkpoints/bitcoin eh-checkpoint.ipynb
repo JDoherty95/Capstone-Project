{
 "cells": [
  {
   "cell_type": "code",
   "execution_count": 58,
   "id": "592f2fbc",
   "metadata": {},
   "outputs": [],
   "source": [
    "# import dependencies\n",
    "import yfinance as yf\n",
    "import pandas as pd\n",
    "import matplotlib.pyplot as plt"
   ]
  },
  {
   "cell_type": "code",
   "execution_count": 18,
   "id": "32ff1c60",
   "metadata": {},
   "outputs": [
    {
     "name": "stdout",
     "output_type": "stream",
     "text": [
      "[*********************100%***********************]  1 of 1 completed\n"
     ]
    },
    {
     "data": {
      "text/html": [
       "<div>\n",
       "<style scoped>\n",
       "    .dataframe tbody tr th:only-of-type {\n",
       "        vertical-align: middle;\n",
       "    }\n",
       "\n",
       "    .dataframe tbody tr th {\n",
       "        vertical-align: top;\n",
       "    }\n",
       "\n",
       "    .dataframe thead th {\n",
       "        text-align: right;\n",
       "    }\n",
       "</style>\n",
       "<table border=\"1\" class=\"dataframe\">\n",
       "  <thead>\n",
       "    <tr style=\"text-align: right;\">\n",
       "      <th></th>\n",
       "      <th>Date</th>\n",
       "      <th>Open</th>\n",
       "      <th>High</th>\n",
       "      <th>Low</th>\n",
       "      <th>Close</th>\n",
       "      <th>Adj Close</th>\n",
       "      <th>Volume</th>\n",
       "    </tr>\n",
       "  </thead>\n",
       "  <tbody>\n",
       "    <tr>\n",
       "      <th>0</th>\n",
       "      <td>2014-09-17</td>\n",
       "      <td>465.864014</td>\n",
       "      <td>468.174011</td>\n",
       "      <td>452.421997</td>\n",
       "      <td>457.334015</td>\n",
       "      <td>457.334015</td>\n",
       "      <td>21056800</td>\n",
       "    </tr>\n",
       "    <tr>\n",
       "      <th>1</th>\n",
       "      <td>2014-09-18</td>\n",
       "      <td>456.859985</td>\n",
       "      <td>456.859985</td>\n",
       "      <td>413.104004</td>\n",
       "      <td>424.440002</td>\n",
       "      <td>424.440002</td>\n",
       "      <td>34483200</td>\n",
       "    </tr>\n",
       "    <tr>\n",
       "      <th>2</th>\n",
       "      <td>2014-09-19</td>\n",
       "      <td>424.102997</td>\n",
       "      <td>427.834991</td>\n",
       "      <td>384.532013</td>\n",
       "      <td>394.795990</td>\n",
       "      <td>394.795990</td>\n",
       "      <td>37919700</td>\n",
       "    </tr>\n",
       "    <tr>\n",
       "      <th>3</th>\n",
       "      <td>2014-09-20</td>\n",
       "      <td>394.673004</td>\n",
       "      <td>423.295990</td>\n",
       "      <td>389.882996</td>\n",
       "      <td>408.903992</td>\n",
       "      <td>408.903992</td>\n",
       "      <td>36863600</td>\n",
       "    </tr>\n",
       "    <tr>\n",
       "      <th>4</th>\n",
       "      <td>2014-09-21</td>\n",
       "      <td>408.084991</td>\n",
       "      <td>412.425995</td>\n",
       "      <td>393.181000</td>\n",
       "      <td>398.821014</td>\n",
       "      <td>398.821014</td>\n",
       "      <td>26580100</td>\n",
       "    </tr>\n",
       "    <tr>\n",
       "      <th>...</th>\n",
       "      <td>...</td>\n",
       "      <td>...</td>\n",
       "      <td>...</td>\n",
       "      <td>...</td>\n",
       "      <td>...</td>\n",
       "      <td>...</td>\n",
       "      <td>...</td>\n",
       "    </tr>\n",
       "    <tr>\n",
       "      <th>2692</th>\n",
       "      <td>2022-01-30</td>\n",
       "      <td>38151.917969</td>\n",
       "      <td>38266.339844</td>\n",
       "      <td>37437.710938</td>\n",
       "      <td>37917.601562</td>\n",
       "      <td>37917.601562</td>\n",
       "      <td>14643548444</td>\n",
       "    </tr>\n",
       "    <tr>\n",
       "      <th>2693</th>\n",
       "      <td>2022-01-31</td>\n",
       "      <td>37920.281250</td>\n",
       "      <td>38647.261719</td>\n",
       "      <td>36733.574219</td>\n",
       "      <td>38483.125000</td>\n",
       "      <td>38483.125000</td>\n",
       "      <td>20734730465</td>\n",
       "    </tr>\n",
       "    <tr>\n",
       "      <th>2694</th>\n",
       "      <td>2022-02-01</td>\n",
       "      <td>38481.765625</td>\n",
       "      <td>39115.132812</td>\n",
       "      <td>38113.664062</td>\n",
       "      <td>38743.273438</td>\n",
       "      <td>38743.273438</td>\n",
       "      <td>20288500328</td>\n",
       "    </tr>\n",
       "    <tr>\n",
       "      <th>2695</th>\n",
       "      <td>2022-02-02</td>\n",
       "      <td>38743.714844</td>\n",
       "      <td>38834.617188</td>\n",
       "      <td>36832.730469</td>\n",
       "      <td>36952.984375</td>\n",
       "      <td>36952.984375</td>\n",
       "      <td>19155189416</td>\n",
       "    </tr>\n",
       "    <tr>\n",
       "      <th>2696</th>\n",
       "      <td>2022-02-04</td>\n",
       "      <td>37234.058594</td>\n",
       "      <td>37286.832031</td>\n",
       "      <td>37093.628906</td>\n",
       "      <td>37280.511719</td>\n",
       "      <td>37280.511719</td>\n",
       "      <td>19112460288</td>\n",
       "    </tr>\n",
       "  </tbody>\n",
       "</table>\n",
       "<p>2697 rows × 7 columns</p>\n",
       "</div>"
      ],
      "text/plain": [
       "           Date          Open          High           Low         Close  \\\n",
       "0    2014-09-17    465.864014    468.174011    452.421997    457.334015   \n",
       "1    2014-09-18    456.859985    456.859985    413.104004    424.440002   \n",
       "2    2014-09-19    424.102997    427.834991    384.532013    394.795990   \n",
       "3    2014-09-20    394.673004    423.295990    389.882996    408.903992   \n",
       "4    2014-09-21    408.084991    412.425995    393.181000    398.821014   \n",
       "...         ...           ...           ...           ...           ...   \n",
       "2692 2022-01-30  38151.917969  38266.339844  37437.710938  37917.601562   \n",
       "2693 2022-01-31  37920.281250  38647.261719  36733.574219  38483.125000   \n",
       "2694 2022-02-01  38481.765625  39115.132812  38113.664062  38743.273438   \n",
       "2695 2022-02-02  38743.714844  38834.617188  36832.730469  36952.984375   \n",
       "2696 2022-02-04  37234.058594  37286.832031  37093.628906  37280.511719   \n",
       "\n",
       "         Adj Close       Volume  \n",
       "0       457.334015     21056800  \n",
       "1       424.440002     34483200  \n",
       "2       394.795990     37919700  \n",
       "3       408.903992     36863600  \n",
       "4       398.821014     26580100  \n",
       "...            ...          ...  \n",
       "2692  37917.601562  14643548444  \n",
       "2693  38483.125000  20734730465  \n",
       "2694  38743.273438  20288500328  \n",
       "2695  36952.984375  19155189416  \n",
       "2696  37280.511719  19112460288  \n",
       "\n",
       "[2697 rows x 7 columns]"
      ]
     },
     "execution_count": 18,
     "metadata": {},
     "output_type": "execute_result"
    }
   ],
   "source": [
    "# grab btc data from yahoo finance. start at 9/17/2014 since thats when the data starts\n",
    "btc_df = yf.download(\"BTC-USD\", start=\"2014-09-17\")\n",
    "# Reset Index\n",
    "btc_df = btc_df.reset_index()\n",
    "btc_df"
   ]
  },
  {
   "cell_type": "code",
   "execution_count": 19,
   "id": "b2ebe40e",
   "metadata": {},
   "outputs": [
    {
     "data": {
      "text/html": [
       "<div>\n",
       "<style scoped>\n",
       "    .dataframe tbody tr th:only-of-type {\n",
       "        vertical-align: middle;\n",
       "    }\n",
       "\n",
       "    .dataframe tbody tr th {\n",
       "        vertical-align: top;\n",
       "    }\n",
       "\n",
       "    .dataframe thead th {\n",
       "        text-align: right;\n",
       "    }\n",
       "</style>\n",
       "<table border=\"1\" class=\"dataframe\">\n",
       "  <thead>\n",
       "    <tr style=\"text-align: right;\">\n",
       "      <th></th>\n",
       "      <th>Open</th>\n",
       "      <th>High</th>\n",
       "      <th>Low</th>\n",
       "      <th>Close</th>\n",
       "      <th>Adj Close</th>\n",
       "      <th>Volume</th>\n",
       "    </tr>\n",
       "    <tr>\n",
       "      <th>Date</th>\n",
       "      <th></th>\n",
       "      <th></th>\n",
       "      <th></th>\n",
       "      <th></th>\n",
       "      <th></th>\n",
       "      <th></th>\n",
       "    </tr>\n",
       "  </thead>\n",
       "  <tbody>\n",
       "    <tr>\n",
       "      <th>2014-09-17</th>\n",
       "      <td>465.864014</td>\n",
       "      <td>468.174011</td>\n",
       "      <td>452.421997</td>\n",
       "      <td>457.334015</td>\n",
       "      <td>457.334015</td>\n",
       "      <td>21056800</td>\n",
       "    </tr>\n",
       "    <tr>\n",
       "      <th>2022-02-04</th>\n",
       "      <td>37234.058594</td>\n",
       "      <td>37286.832031</td>\n",
       "      <td>37093.628906</td>\n",
       "      <td>37280.511719</td>\n",
       "      <td>37280.511719</td>\n",
       "      <td>19112460288</td>\n",
       "    </tr>\n",
       "  </tbody>\n",
       "</table>\n",
       "</div>"
      ],
      "text/plain": [
       "                    Open          High           Low         Close  \\\n",
       "Date                                                                 \n",
       "2014-09-17    465.864014    468.174011    452.421997    457.334015   \n",
       "2022-02-04  37234.058594  37286.832031  37093.628906  37280.511719   \n",
       "\n",
       "               Adj Close       Volume  \n",
       "Date                                   \n",
       "2014-09-17    457.334015     21056800  \n",
       "2022-02-04  37280.511719  19112460288  "
      ]
     },
     "execution_count": 19,
     "metadata": {},
     "output_type": "execute_result"
    }
   ],
   "source": [
    "# Find the stats of bitcoin starting 9-17-14 to present\n",
    "btc_14 = btc_df.head(1)\n",
    "btc_14 = btc_14.set_index(\"Date\")\n",
    "btc_22 = btc_df.tail(1)\n",
    "btc_22 = btc_22.set_index(\"Date\")\n",
    "combined = [btc_14, btc_22]\n",
    "combined_df = pd.concat(combined)\n",
    "combined_df"
   ]
  },
  {
   "cell_type": "code",
   "execution_count": 56,
   "id": "a604a102",
   "metadata": {},
   "outputs": [
    {
     "data": {
      "text/plain": [
       "<AxesSubplot:title={'center':'Late 2014 Bitcoin Price vs Early 2022 Bitcoin Price'}, xlabel='Date', ylabel='Bitcoin Price'>"
      ]
     },
     "execution_count": 56,
     "metadata": {},
     "output_type": "execute_result"
    },
    {
     "data": {
      "image/png": "[encoded data removed]",
      "text/plain": [
       "<Figure size 720x360 with 1 Axes>"
      ]
     },
     "metadata": {
      "needs_background": "light"
     },
     "output_type": "display_data"
    }
   ],
   "source": [
    "# combine dataframe\n",
    "combined = [btc_14, btc_22]\n",
    "combined_btc = pd.concat(combined)\n",
    "\n",
    "# drop unneeded things\n",
    "combined_btc = combined_btc.drop(columns = [\"Open\",\"High\",\"Low\",\"Adj Close\"])\n",
    "combined_btc.plot(kind=\"bar\" , y=[\"Close\"], figsize = (10,5), \n",
    "                  title=\"Late 2014 Bitcoin Price vs Early 2022 Bitcoin Price\",\n",
    "                  ylabel=\"Bitcoin Price\", fontsize=10,colormap=\"Greens_r\")"
   ]
  },
  {
   "cell_type": "markdown",
   "id": "acc4bdce",
   "metadata": {},
   "source": [
    "## grab Nasdaq 100 data from yahoo finance. start at 9/17/2014 since thats when the data starts for Bitcoin\n",
    "ndaq_df = yf.download(\"NDAQ\", start=\"2014-09-17\")\n",
    "ndaq_df.head()\n",
    "# Reset Index\n",
    "ndaq_df = ndaq_df.reset_index()\n",
    "ndaq_df"
   ]
  },
  {
   "cell_type": "code",
   "execution_count": 3,
   "id": "e61a5b98",
   "metadata": {},
   "outputs": [],
   "source": [
    "# Find the stats of bitcoin starting 9-17-14 to present\n",
    "ndaq_14 = ndaq_df.head(1)\n",
    "ndaq_14 = ndaq_14.set_index(\"Date\")\n",
    "ndaq_22 = ndaq_df.tail(1)\n",
    "ndaq_22 = ndaq_22.set_index(\"Date\")"
   ]
  },
  {
   "cell_type": "code",
   "execution_count": 57,
   "id": "27b7fe95",
   "metadata": {},
   "outputs": [
    {
     "data": {
      "text/plain": [
       "<AxesSubplot:title={'center':'Late 2014 Nasdaq 100 Price vs Early 2022 Nasdaq Price'}, xlabel='Date', ylabel='Nasdaq Price'>"
      ]
     },
     "execution_count": 57,
     "metadata": {},
     "output_type": "execute_result"
    },
    {
     "data": {
      "image/png": "[encoded data removed]",
      "text/plain": [
       "<Figure size 720x360 with 1 Axes>"
      ]
     },
     "metadata": {
      "needs_background": "light"
     },
     "output_type": "display_data"
    }
   ],
   "source": [
    "# combine dataframe\n",
    "combined = [ndaq_14, ndaq_22]\n",
    "combined_ndaq = pd.concat(combined)\n",
    "\n",
    "# drop unneeded things\n",
    "combined_ndaq = combined_ndaq.drop(columns = [\"Open\",\"High\",\"Low\",\"Adj Close\"])\n",
    "combined_ndaq.plot(kind=\"bar\" , y=[\"Close\"], figsize = (10,5), \n",
    "                  title=\"Late 2014 Nasdaq 100 Price vs Early 2022 Nasdaq Price\",\n",
    "                  ylabel=\"Nasdaq Price\", fontsize=10,colormap=\"Greens_r\")"
   ]
  },
  {
   "cell_type": "code",
   "execution_count": 59,
   "id": "9d05103b",
   "metadata": {},
   "outputs": [],
   "source": [
    "# re do whole chart using hvplot and then put them together to compare "
   ]
  },
  {
   "cell_type": "code",
   "execution_count": null,
   "id": "c39b09e1",
   "metadata": {},
   "outputs": [],
   "source": []
  },
  {
   "cell_type": "code",
   "execution_count": null,
   "id": "16af67bf",
   "metadata": {},
   "outputs": [],
   "source": []
  }
 ],
 "metadata": {
  "kernelspec": {
   "display_name": "Python [conda env:pyvizenv] *",
   "language": "python",
   "name": "conda-env-pyvizenv-py"
  },
  "language_info": {
   "codemirror_mode": {
    "name": "ipython",
    "version": 3
   },
   "file_extension": ".py",
   "mimetype": "text/x-python",
   "name": "python",
   "nbconvert_exporter": "python",
   "pygments_lexer": "ipython3",
   "version": "3.7.10"
  }
 },
 "nbformat": 4,
 "nbformat_minor": 5
}
